{
    "nbformat": 4,
    "nbformat_minor": 0,
    "metadata": {
        "colab": {
            "name": "run_mvp_colab.ipynb",
            "provenance": [],
            "authorship_tag": "ABX9TyMrToix3g7FiZ0aM1uMXcTh"
        },
        "kernelspec": {
            "name": "python3",
            "display_name": "Python 3"
        },
        "language_info": {
            "name": "python"
        },
        "accelerator": "GPU"
    },
    "cells": [
        {
            "cell_type": "code",
            "metadata": {
                "colab": {
                    "base_uri": "https://localhost:8080/"
                },
                "id": "1J3kHiqWMShk",
                "executionInfo": {
                    "status": "ok",
                    "timestamp": 1627571864774,
                    "user_tz": -420,
                    "elapsed": 27496,
                    "user": {
                        "displayName": "Hiếu Vũ Minh",
                        "photoUrl": "",
                        "userId": "06014554821972597131"
                    }
                },
                "outputId": "ce343354-d615-4e85-b13c-a9e8917e0b9f"
            },
            "source": [
                "from google.colab import drive\n",
                "drive.mount('/content/drive/')\n"
            ],
            "execution_count": 1,
            "outputs": [
                {
                    "output_type": "stream",
                    "text": [
                        "Mounted at /content/drive/\n"
                    ],
                    "name": "stdout"
                }
            ]
        },
        {
            "cell_type": "code",
            "metadata": {
                "colab": {
                    "base_uri": "https://localhost:8080/"
                },
                "id": "ThB1rW7kykYt",
                "executionInfo": {
                    "status": "ok",
                    "timestamp": 1627571864775,
                    "user_tz": -420,
                    "elapsed": 27,
                    "user": {
                        "displayName": "Hiếu Vũ Minh",
                        "photoUrl": "",
                        "userId": "06014554821972597131"
                    }
                },
                "outputId": "d2cf214b-9987-4156-fa5e-85d7d9cabda8"
            },
            "source": [
                "%cd drive/MyDrive/TW_Bootcamp_2021"
            ],
            "execution_count": 2,
            "outputs": [
                {
                    "output_type": "stream",
                    "text": [
                        "/content/drive/MyDrive/TW_Bootcamp_2021\n"
                    ],
                    "name": "stdout"
                }
            ]
        },
        {
            "cell_type": "code",
            "metadata": {
                "id": "pSJDzawUzqDT"
            },
            "source": [
                "%pip install gradio gtts librosa"
            ],
            "execution_count": null,
            "outputs": []
        },
        {
            "cell_type": "code",
            "metadata": {
                "id": "yAivvHXdzLnZ",
                "executionInfo": {
                    "status": "ok",
                    "timestamp": 1627573759171,
                    "user_tz": -420,
                    "elapsed": 3307,
                    "user": {
                        "displayName": "Hiếu Vũ Minh",
                        "photoUrl": "",
                        "userId": "06014554821972597131"
                    }
                }
            },
            "source": [
                "from run_demo import iface"
            ],
            "execution_count": 17,
            "outputs": []
        },
        {
            "cell_type": "code",
            "metadata": {
                "colab": {
                    "base_uri": "https://localhost:8080/",
                    "height": 623
                },
                "id": "3bsgqwOz50qH",
                "outputId": "ace58a36-60e8-463d-a797-059cbd3fc05f"
            },
            "source": [
                "iface.launch(share=True, debug=True)"
            ],
            "execution_count": null,
            "outputs": [
                {
                    "output_type": "stream",
                    "text": [
                        "Colab notebook detected. This cell will run indefinitely so that you can see errors and logs. To turn off, set debug=False in launch().\n",
                        "This share link will expire in 24 hours. If you need a permanent link, visit: https://gradio.app/introducing-hosted (NEW!)\n",
                        "Running on External URL: https://43916.gradio.app\n",
                        "Interface loading below...\n"
                    ],
                    "name": "stdout"
                },
                {
                    "output_type": "display_data",
                    "data": {
                        "text/html": [
                            "\n",
                            "        <iframe\n",
                            "            width=\"900\"\n",
                            "            height=\"500\"\n",
                            "            src=\"https://43916.gradio.app\"\n",
                            "            frameborder=\"0\"\n",
                            "            allowfullscreen\n",
                            "        ></iframe>\n",
                            "        "
                        ],
                        "text/plain": [
                            "<IPython.lib.display.IFrame at 0x7f6b201baf90>"
                        ]
                    },
                    "metadata": {
                        "tags": []
                    }
                },
                {
                    "output_type": "stream",
                    "text": [
                        "/usr/local/lib/python3.7/dist-packages/librosa/core/audio.py:165: UserWarning: PySoundFile failed. Trying audioread instead.\n",
                        "  warnings.warn(\"PySoundFile failed. Trying audioread instead.\")\n"
                    ],
                    "name": "stderr"
                }
            ]
        }
    ]
}